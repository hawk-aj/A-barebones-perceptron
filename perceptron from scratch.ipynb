{
 "cells": [
  {
   "cell_type": "markdown",
   "metadata": {},
   "source": [
    "\n",
    "# creating a simple nueral network from scratch"
   ]
  },
  {
   "cell_type": "markdown",
   "metadata": {},
   "source": [
    "the aim is to create a simple neural network based on a fixed set of 3bit binary input and 1bit odtput pair, and then use it to predict the outcome of an out of set 3bit input"
   ]
  },
  {
   "cell_type": "markdown",
   "metadata": {},
   "source": [
    "details: create a basic nueral network without any hidden layers, basically a perceptron."
   ]
  },
  {
   "cell_type": "code",
   "execution_count": 3,
   "metadata": {},
   "outputs": [
    {
     "name": "stdout",
     "output_type": "stream",
     "text": [
      "[[0]\n",
      " [1]\n",
      " [1]\n",
      " [0]]\n"
     ]
    }
   ],
   "source": [
    "import numpy as np\n",
    "\n",
    "def sigmoid(x):\n",
    "    return 1/(1+np.exp(-x))\n",
    "\n",
    "training_inputs = np.array([[0,0,1],\n",
    "                         [1,1,1],\n",
    "                         [1,0,1],\n",
    "                         [0,1,1]])\n",
    "training_outputs = np.array([[0,1,1,0]]).T\n",
    "print(training_outputs)"
   ]
  },
  {
   "cell_type": "code",
   "execution_count": 4,
   "metadata": {},
   "outputs": [
    {
     "name": "stdout",
     "output_type": "stream",
     "text": [
      "Random starting synaptic weights:\n",
      "[[-0.16595599]\n",
      " [ 0.44064899]\n",
      " [-0.99977125]]\n"
     ]
    }
   ],
   "source": [
    "np.random.seed(1)\n",
    "\n",
    "synaptic_weights = 2 * np.random.random((3,1)) - 1\n",
    "\n",
    "print('Random starting synaptic weights:')\n",
    "print(synaptic_weights)"
   ]
  },
  {
   "cell_type": "markdown",
   "metadata": {},
   "source": [
    "iteration 1"
   ]
  },
  {
   "cell_type": "code",
   "execution_count": 7,
   "metadata": {},
   "outputs": [
    {
     "name": "stdout",
     "output_type": "stream",
     "text": [
      "Outputs after training:\n",
      "[[0.2689864 ]\n",
      " [0.3262757 ]\n",
      " [0.23762817]\n",
      " [0.36375058]]\n"
     ]
    }
   ],
   "source": [
    "for i in range(1):\n",
    "\n",
    "    input_layer = training_inputs\n",
    "    \n",
    "    outputs = sigmoid(np.dot(input_layer, synaptic_weights))\n",
    "\n",
    "print('Outputs after training:')\n",
    "print(outputs)"
   ]
  },
  {
   "cell_type": "markdown",
   "metadata": {},
   "source": [
    "calculations:\n",
    "taking the first input 0,0,1\n",
    "doing a dot product with the weights and summing together we get -0.999\n",
    "putting it in the sigmoid function we get 0.268"
   ]
  },
  {
   "cell_type": "markdown",
   "metadata": {},
   "source": [
    "training process:\n",
    "1. taking the inputs and using randomly initialized weights we get the initial nueron outputs\n",
    "2. calculate the error, basically the difference between output we get and our sample output\n",
    "3. depending on the severness of the error, adjust the weights\n",
    "4. repeat this process for a significant amount of times to train the perceptron"
   ]
  },
  {
   "cell_type": "markdown",
   "metadata": {},
   "source": [
    "error weighted derivative:\n",
    "    adjust weights by error.input.gradient of sigmoid \n",
    "    error = output-sample output\n",
    "    input, in this case either o or 1\n",
    "we basically want the correction to be proportional to the input \n",
    "the error or difference\n",
    "and the gradient of the sigmoid is basically pushing it to one of the states \n",
    "1 or 0 as the gradient is less at the edges and more in the middle"
   ]
  },
  {
   "cell_type": "code",
   "execution_count": 11,
   "metadata": {},
   "outputs": [
    {
     "name": "stdout",
     "output_type": "stream",
     "text": [
      "Synaptic weights after training: \n",
      "[[10.38040701]\n",
      " [-0.20641179]\n",
      " [-4.98452047]]\n",
      "Outputs after training:\n",
      "[[0.00679672]\n",
      " [0.99445583]\n",
      " [0.99548516]\n",
      " [0.00553614]]\n"
     ]
    }
   ],
   "source": [
    "def sigmoid_der(x):\n",
    "    return x * (1 - x)\n",
    "\n",
    "for i in range(20000):\n",
    "\n",
    "    input_layer = training_inputs\n",
    "    \n",
    "    outputs = sigmoid(np.dot(input_layer, synaptic_weights))\n",
    "    \n",
    "    error = training_outputs - outputs\n",
    "    \n",
    "    adjustments = error * sigmoid_der(outputs)\n",
    "    \n",
    "    synaptic_weights += np.dot(input_layer.T, adjustments)\n",
    "\n",
    "print('Synaptic weights after training: ')\n",
    "print(synaptic_weights)\n",
    "\n",
    "print('Outputs after training:')\n",
    "print(outputs)"
   ]
  },
  {
   "cell_type": "code",
   "execution_count": 22,
   "metadata": {},
   "outputs": [],
   "source": [
    "e=(training_outputs-outputs)"
   ]
  },
  {
   "cell_type": "code",
   "execution_count": 23,
   "metadata": {},
   "outputs": [
    {
     "name": "stdout",
     "output_type": "stream",
     "text": [
      "[[-0.00679672]\n",
      " [ 0.00554417]\n",
      " [ 0.00451484]\n",
      " [-0.00553614]]\n"
     ]
    }
   ],
   "source": [
    "print(e)"
   ]
  },
  {
   "cell_type": "code",
   "execution_count": 31,
   "metadata": {},
   "outputs": [
    {
     "name": "stdout",
     "output_type": "stream",
     "text": [
      "Synaptic weights after training: \n",
      "[[11.49345763]\n",
      " [-0.2048909 ]\n",
      " [-5.54227641]]\n",
      "Outputs after training:\n",
      "[[0.00390234]\n",
      " [0.99681554]\n",
      " [0.99740397]\n",
      " [0.00318168]]\n"
     ]
    }
   ],
   "source": [
    "#training a third time\n",
    "\n",
    "for i in range(20000):\n",
    "\n",
    "    input_layer = training_inputs\n",
    "    \n",
    "    outputs = sigmoid(np.dot(input_layer, synaptic_weights))\n",
    "    \n",
    "    error = training_outputs - outputs\n",
    "    \n",
    "    adjustments = error * sigmoid_der(outputs)\n",
    "    \n",
    "    synaptic_weights += np.dot(input_layer.T, adjustments)\n",
    "\n",
    "print('Synaptic weights after training: ')\n",
    "print(synaptic_weights)\n",
    "\n",
    "print('Outputs after training:')\n",
    "print(outputs)"
   ]
  },
  {
   "cell_type": "code",
   "execution_count": 25,
   "metadata": {},
   "outputs": [
    {
     "name": "stdout",
     "output_type": "stream",
     "text": [
      "[[-0.00478753]\n",
      " [ 0.00390633]\n",
      " [ 0.00318343]\n",
      " [-0.0039022 ]]\n"
     ]
    }
   ],
   "source": [
    "e=(training_outputs-outputs)\n",
    "print(e)"
   ]
  },
  {
   "cell_type": "code",
   "execution_count": 26,
   "metadata": {},
   "outputs": [],
   "source": [
    "test_input = np.array([[1,0,0]])\n",
    "outputs = sigmoid(np.dot(test_input, synaptic_weights))"
   ]
  },
  {
   "cell_type": "code",
   "execution_count": 27,
   "metadata": {},
   "outputs": [
    {
     "name": "stdout",
     "output_type": "stream",
     "text": [
      "[[0.99998464]]\n"
     ]
    }
   ],
   "source": [
    "print(outputs)"
   ]
  },
  {
   "cell_type": "code",
   "execution_count": 29,
   "metadata": {},
   "outputs": [
    {
     "name": "stdout",
     "output_type": "stream",
     "text": [
      "synaptic weights:\n",
      "[[11.08357409]\n",
      " [-0.20536384]\n",
      " [-5.33695387]]\n"
     ]
    }
   ],
   "source": [
    "print('synaptic weights:')\n",
    "print(synaptic_weights)"
   ]
  },
  {
   "cell_type": "code",
   "execution_count": 30,
   "metadata": {},
   "outputs": [
    {
     "name": "stdout",
     "output_type": "stream",
     "text": [
      "test 1 [[0.44883872]]\n",
      "test 2 [[0.99998114]]\n"
     ]
    }
   ],
   "source": [
    "test_input = np.array([[0,1,0]])\n",
    "outputs = sigmoid(np.dot(test_input, synaptic_weights))\n",
    "print('test 1',outputs)\n",
    "\n",
    "test_input = np.array([[1,1,0]])\n",
    "outputs = sigmoid(np.dot(test_input, synaptic_weights))\n",
    "print(\"test 2\",outputs)"
   ]
  },
  {
   "cell_type": "code",
   "execution_count": 32,
   "metadata": {},
   "outputs": [
    {
     "name": "stdout",
     "output_type": "stream",
     "text": [
      "test 3 [[0.00318165]]\n"
     ]
    }
   ],
   "source": [
    "test_input = np.array([[0,1,1]])\n",
    "outputs = sigmoid(np.dot(test_input, synaptic_weights))\n",
    "print(\"test 3\",outputs)"
   ]
  },
  {
   "cell_type": "code",
   "execution_count": 33,
   "metadata": {},
   "outputs": [
    {
     "name": "stdout",
     "output_type": "stream",
     "text": [
      "test 4 0\n",
      "test 5 0\n"
     ]
    }
   ],
   "source": [
    "test_input = np.array([[0,1,1]])\n",
    "outputs = sigmoid(np.dot(test_input, synaptic_weights))\n",
    "print(\"test 4\",int(outputs))\n",
    "\n",
    "test_input = np.array([[0,1,0]])\n",
    "outputs = sigmoid(np.dot(test_input, synaptic_weights))\n",
    "print(\"test 5\",int(outputs))"
   ]
  },
  {
   "cell_type": "code",
   "execution_count": 34,
   "metadata": {},
   "outputs": [
    {
     "name": "stdout",
     "output_type": "stream",
     "text": [
      "test 6 0\n"
     ]
    }
   ],
   "source": [
    "test_input = np.array([[1,0,1]])\n",
    "outputs = sigmoid(np.dot(test_input, synaptic_weights))\n",
    "print(\"test 6\",int(outputs))"
   ]
  },
  {
   "cell_type": "code",
   "execution_count": 41,
   "metadata": {},
   "outputs": [
    {
     "name": "stdout",
     "output_type": "stream",
     "text": [
      "test 7 :  1\n"
     ]
    }
   ],
   "source": [
    "test_input = np.array([[1,0,1]])\n",
    "outputs = sigmoid(np.dot(test_input, synaptic_weights))\n",
    "out=float(outputs)\n",
    "print(\"test 7 : \",round(out))"
   ]
  },
  {
   "cell_type": "code",
   "execution_count": null,
   "metadata": {},
   "outputs": [],
   "source": []
  }
 ],
 "metadata": {
  "kernelspec": {
   "display_name": "Python 3",
   "language": "python",
   "name": "python3"
  },
  "language_info": {
   "codemirror_mode": {
    "name": "ipython",
    "version": 3
   },
   "file_extension": ".py",
   "mimetype": "text/x-python",
   "name": "python",
   "nbconvert_exporter": "python",
   "pygments_lexer": "ipython3",
   "version": "3.8.3"
  }
 },
 "nbformat": 4,
 "nbformat_minor": 4
}
